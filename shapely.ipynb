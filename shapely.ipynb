{
 "cells": [
  {
   "metadata": {},
   "cell_type": "markdown",
   "source": "# Fixing Geojson files for Berlin and Madrid",
   "id": "c7c3b2b4120bb150"
  },
  {
   "cell_type": "code",
   "id": "initial_id",
   "metadata": {
    "collapsed": true,
    "ExecuteTime": {
     "end_time": "2024-11-29T17:36:32.170071Z",
     "start_time": "2024-11-29T17:36:32.163779Z"
    }
   },
   "source": "import geopandas as gpd",
   "outputs": [],
   "execution_count": 5
  },
  {
   "metadata": {
    "ExecuteTime": {
     "end_time": "2024-11-29T17:36:33.353122Z",
     "start_time": "2024-11-29T17:36:32.997041Z"
    }
   },
   "cell_type": "code",
   "source": [
    "input_file = \"data/Berlin/neighbourhoods_cleaned.geojson\"\n",
    "gdf = gpd.read_file(input_file)\n",
    "merged_gdf = gdf.dissolve(by='neighbourhood_cleansed')\n",
    "output_file = \"data/Berlin/berlin.geojson\"\n",
    "merged_gdf.to_file(output_file, driver=\"GeoJSON\")\n",
    "\n",
    "print(f\"Merged GeoJSON saved to {output_file}\")"
   ],
   "id": "6066bcd1a879dc76",
   "outputs": [
    {
     "name": "stdout",
     "output_type": "stream",
     "text": [
      "Merged GeoJSON saved to data/Berlin/berlin.geojson\n"
     ]
    }
   ],
   "execution_count": 6
  },
  {
   "metadata": {
    "ExecuteTime": {
     "end_time": "2024-11-29T17:36:34.588770Z",
     "start_time": "2024-11-29T17:36:34.425755Z"
    }
   },
   "cell_type": "code",
   "source": [
    "input_file = \"data/Madrid/neighbourhoods_cleaned.geojson\"\n",
    "gdf = gpd.read_file(input_file)\n",
    "merged_gdf = gdf.dissolve(by='neighbourhood_cleansed')\n",
    "output_file = \"data/Madrid/madrid.geojson\"\n",
    "merged_gdf.to_file(output_file, driver=\"GeoJSON\")\n",
    "\n",
    "print(f\"Merged GeoJSON saved to {output_file}\")"
   ],
   "id": "143c1f01a3ee916f",
   "outputs": [
    {
     "name": "stdout",
     "output_type": "stream",
     "text": [
      "Merged GeoJSON saved to data/Madrid/madrid.geojson\n"
     ]
    }
   ],
   "execution_count": 7
  },
  {
   "metadata": {},
   "cell_type": "code",
   "outputs": [],
   "execution_count": null,
   "source": "",
   "id": "fe373f0a4ff9d140"
  }
 ],
 "metadata": {
  "kernelspec": {
   "display_name": "Python 3",
   "language": "python",
   "name": "python3"
  },
  "language_info": {
   "codemirror_mode": {
    "name": "ipython",
    "version": 2
   },
   "file_extension": ".py",
   "mimetype": "text/x-python",
   "name": "python",
   "nbconvert_exporter": "python",
   "pygments_lexer": "ipython2",
   "version": "2.7.6"
  }
 },
 "nbformat": 4,
 "nbformat_minor": 5
}
